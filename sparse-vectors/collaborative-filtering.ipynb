{
 "cells": [
  {
   "cell_type": "code",
   "execution_count": 1,
   "id": "9046faa4-e3b7-4252-9ed4-069a10a4a3f6",
   "metadata": {},
   "outputs": [
    {
     "data": {
      "text/plain": [
       "True"
      ]
     },
     "execution_count": 1,
     "metadata": {},
     "output_type": "execute_result"
    }
   ],
   "source": [
    "import os\n",
    "import pandas as pd\n",
    "from qdrant_client import models,QdrantClient\n",
    "from qdrant_client.http.models import PointStruct, SparseVector\n",
    "from collections import defaultdict\n",
    "from dotenv import load_dotenv\n",
    "load_dotenv()"
   ]
  },
  {
   "cell_type": "code",
   "execution_count": 2,
   "id": "8342ccbb-8851-4273-bb34-067fc0244df1",
   "metadata": {},
   "outputs": [],
   "source": [
    "# Load CSV files\n",
    "ratings_df = pd.read_csv('data/ratings_small.csv')\n",
    "movies_df = pd.read_csv('data/movies_metadata.csv', low_memory=False)\n",
    "\n",
    "# Convert movieId in ratings_df to string\n",
    "ratings_df['movieId'] = ratings_df['movieId'].astype(str)\n",
    "\n",
    "# Convert id in movies_df to string and handle missing values\n",
    "movies_df['id'] = movies_df['id'].astype(str)\n",
    "movies_df = movies_df.dropna(subset=['id'])\n",
    "movies_df['title'] = movies_df['title'].fillna('')\n",
    "\n",
    "# Normalize ratings\n",
    "ratings_df['rating'] = (ratings_df['rating'] - ratings_df['rating'].mean()) / ratings_df['rating'].std()\n",
    "\n",
    "# Merge ratings with movie metadata to get movie titles\n",
    "ratings_df = ratings_df.merge(movies_df[['id', 'title']], left_on='movieId', right_on='id', how='left')\n",
    "\n",
    "# Aggregate ratings to handle duplicate (userId, title) pairs\n",
    "ratings_df = ratings_df.groupby(['userId', 'movieId']).rating.mean().reset_index()"
   ]
  },
  {
   "cell_type": "code",
   "execution_count": 3,
   "id": "feedd54d-dfb0-46ce-99c7-4b77252b5f59",
   "metadata": {},
   "outputs": [
    {
     "data": {
      "text/plain": [
       "True"
      ]
     },
     "execution_count": 3,
     "metadata": {},
     "output_type": "execute_result"
    }
   ],
   "source": [
    "qdrant_client = QdrantClient(\n",
    "    os.getenv(\"QDRANT_HOST\"),\n",
    "    api_key=os.getenv(\"QDRANT_API_KEY\")\n",
    ")\n",
    "\n",
    "# Create a new Qdrant collection\n",
    "collection_name = \"movies\"\n",
    "qdrant_client.create_collection(\n",
    "    collection_name=collection_name,\n",
    "    vectors_config={},\n",
    "    sparse_vectors_config={\n",
    "        \"ratings\": models.SparseVectorParams()\n",
    "    }\n",
    ")"
   ]
  },
  {
   "cell_type": "code",
   "execution_count": 4,
   "id": "ed35986e-2b7c-4aa3-a0b9-02360088339b",
   "metadata": {},
   "outputs": [],
   "source": [
    "# Convert ratings to sparse vectors\n",
    "user_sparse_vectors = defaultdict(lambda: {\"values\": [], \"indices\": []})\n",
    "for row in ratings_df.itertuples():\n",
    "    user_sparse_vectors[row.userId][\"values\"].append(row.rating)\n",
    "    user_sparse_vectors[row.userId][\"indices\"].append(int(row.movieId))"
   ]
  },
  {
   "cell_type": "code",
   "execution_count": 5,
   "id": "44b6c5ee-5f94-440f-aee0-7df67dd08963",
   "metadata": {},
   "outputs": [],
   "source": [
    "# Define a data generator\n",
    "def data_generator():\n",
    "    for user_id, sparse_vector in user_sparse_vectors.items():\n",
    "        yield PointStruct(\n",
    "            id=user_id,\n",
    "            vector={\"ratings\": SparseVector(\n",
    "                indices=sparse_vector[\"indices\"],\n",
    "                values=sparse_vector[\"values\"]\n",
    "            )},\n",
    "            payload={\"user_id\": user_id}\n",
    "        )\n",
    "\n",
    "# Upload points using the data generator\n",
    "qdrant_client.upload_points(\n",
    "    collection_name=collection_name,\n",
    "    points=data_generator()\n",
    ")"
   ]
  },
  {
   "cell_type": "markdown",
   "id": "1c18c892-d4dc-45e9-92e3-4c82f328b000",
   "metadata": {},
   "source": [
    "# Search "
   ]
  },
  {
   "cell_type": "code",
   "execution_count": 6,
   "id": "04a2b49c-9906-4c4b-93e3-14d2bfe1c70c",
   "metadata": {},
   "outputs": [],
   "source": [
    "my_ratings = {\n",
    "    603: 1,     # Matrix\n",
    "    13475: 1,   # Star Trek\n",
    "    11: 1,      # Star Wars\n",
    "    1091: -1,   # The Thing\n",
    "    862: 1,     # Toy Story\n",
    "    597: -1,    # Titanic\n",
    "    680: -1,    # Pulp Fiction\n",
    "    13: 1,      # Forrest Gump\n",
    "    120: 1,     # Lord of the Rings\n",
    "    87: -1,     # Indiana Jones\n",
    "    562: -1     # Die Hard\n",
    "}"
   ]
  },
  {
   "cell_type": "code",
   "execution_count": 7,
   "id": "537e65f1-9b05-49f2-b5ff-5e540ae8b137",
   "metadata": {},
   "outputs": [],
   "source": [
    "indices = list(my_ratings.keys())\n",
    "values = list(my_ratings.values())\n",
    "custom_sparse_vector = {\"indices\": indices, \"values\": values}"
   ]
  },
  {
   "cell_type": "code",
   "execution_count": 8,
   "id": "e722ce96-b5e4-4e3e-af2b-e590384e3a12",
   "metadata": {},
   "outputs": [
    {
     "name": "stdout",
     "output_type": "stream",
     "text": [
      "Movie ID 518 not found in movies_df.\n",
      "Movie ID 57 not found in movies_df.\n",
      "Title: Pirates of the Caribbean: At World's End, Score: 2.404021, Payload: {'user_id': 285}\n",
      "Title: Magnetic Rose, Score: 2.404021, Payload: {'user_id': 30}\n",
      "Title: The Horse Whisperer, Score: 2.404021, Payload: {'user_id': 547}\n",
      "Movie ID 373 not found in movies_df.\n",
      "Title: Citizen Kane, Score: 1.972675, Payload: {'user_id': 15}\n",
      "Title: Bang, Boom, Bang, Score: 1.972675, Payload: {'user_id': 344}\n",
      "Movie ID 353 not found in movies_df.\n",
      "Movie ID 282 not found in movies_df.\n"
     ]
    }
   ],
   "source": [
    "from qdrant_client import QdrantClient\n",
    "from qdrant_client.http.models import NamedSparseVector, SparseVector\n",
    "\n",
    "# Create the NamedSparseVector for the query\n",
    "named_query_vector = NamedSparseVector(\n",
    "    name=\"ratings\",\n",
    "    vector=SparseVector(\n",
    "        indices=custom_sparse_vector[\"indices\"],\n",
    "        values=custom_sparse_vector[\"values\"]\n",
    "    )\n",
    ")\n",
    "\n",
    "# Perform the search\n",
    "results = qdrant_client.search(\n",
    "    collection_name=collection_name,\n",
    "    query_vector=named_query_vector,\n",
    "    limit=10\n",
    ")\n",
    "\n",
    "# Print search results with movie titles\n",
    "for result in results:\n",
    "    movie_id = result.id\n",
    "    movie_title_row = movies_df.loc[movies_df['id'] == str(movie_id), 'title']\n",
    "    if not movie_title_row.empty:\n",
    "        movie_title = movie_title_row.values[0]\n",
    "        print(f\"Title: {movie_title}, Score: {result.score}, Payload: {result.payload}\")\n",
    "    else:\n",
    "        print(f\"Movie ID {movie_id} not found in movies_df.\")"
   ]
  },
  {
   "cell_type": "code",
   "execution_count": null,
   "id": "e82d6b61-0b3b-46c5-9f59-f1993c654342",
   "metadata": {},
   "outputs": [],
   "source": []
  }
 ],
 "metadata": {
  "kernelspec": {
   "display_name": "Python 3 (ipykernel)",
   "language": "python",
   "name": "python3"
  },
  "language_info": {
   "codemirror_mode": {
    "name": "ipython",
    "version": 3
   },
   "file_extension": ".py",
   "mimetype": "text/x-python",
   "name": "python",
   "nbconvert_exporter": "python",
   "pygments_lexer": "ipython3",
   "version": "3.11.9"
  }
 },
 "nbformat": 4,
 "nbformat_minor": 5
}
