{
 "cells": [
  {
   "cell_type": "code",
   "execution_count": 1,
   "id": "9046faa4-e3b7-4252-9ed4-069a10a4a3f6",
   "metadata": {},
   "outputs": [
    {
     "data": {
      "text/plain": [
       "True"
      ]
     },
     "execution_count": 1,
     "metadata": {},
     "output_type": "execute_result"
    }
   ],
   "source": [
    "import os\n",
    "import pandas as pd\n",
    "import requests\n",
    "from IPython.display import display, HTML\n",
    "from qdrant_client import models,QdrantClient\n",
    "from qdrant_client.http.models import PointStruct, SparseVector, NamedSparseVector\n",
    "from collections import defaultdict\n",
    "from dotenv import load_dotenv\n",
    "load_dotenv()"
   ]
  },
  {
   "cell_type": "code",
   "execution_count": 2,
   "id": "8342ccbb-8851-4273-bb34-067fc0244df1",
   "metadata": {},
   "outputs": [],
   "source": [
    "# Load CSV files\n",
    "ratings_df = pd.read_csv('data/ratings_small.csv')\n",
    "movies_df = pd.read_csv('data/movies_metadata.csv', low_memory=False)\n",
    "\n",
    "# Convert movieId in ratings_df to string\n",
    "ratings_df['movieId'] = ratings_df['movieId'].astype(str)\n",
    "\n",
    "# Convert id and imdb_id in movies_df to string and handle missing values\n",
    "movies_df['id'] = movies_df['id'].astype(str)\n",
    "movies_df['imdb_id'] = movies_df['imdb_id'].astype(str).str.extract(r'(tt\\d+)').fillna('')\n",
    "movies_df = movies_df.dropna(subset=['id', 'imdb_id'])\n",
    "\n",
    "# Normalize ratings\n",
    "ratings_df['rating'] = (ratings_df['rating'] - ratings_df['rating'].mean()) / ratings_df['rating'].std()\n",
    "\n",
    "# Merge ratings with movie metadata to get movie titles and imdb_id\n",
    "merged_df = ratings_df.merge(movies_df[['id', 'title', 'imdb_id']], left_on='movieId', right_on='id', how='inner')\n",
    "\n",
    "# Aggregate ratings to handle duplicate (userId, title) pairs\n",
    "ratings_agg_df = merged_df.groupby(['userId', 'movieId']).rating.mean().reset_index()"
   ]
  },
  {
   "cell_type": "code",
   "execution_count": 3,
   "id": "feedd54d-dfb0-46ce-99c7-4b77252b5f59",
   "metadata": {},
   "outputs": [
    {
     "data": {
      "text/plain": [
       "True"
      ]
     },
     "execution_count": 3,
     "metadata": {},
     "output_type": "execute_result"
    }
   ],
   "source": [
    "qdrant_client = QdrantClient(\n",
    "    os.getenv(\"QDRANT_HOST\"),\n",
    "    api_key=os.getenv(\"QDRANT_API_KEY\")\n",
    ")\n",
    "\n",
    "# Create a new Qdrant collection\n",
    "collection_name = \"movies\"\n",
    "qdrant_client.create_collection(\n",
    "    collection_name=collection_name,\n",
    "    vectors_config={},\n",
    "    sparse_vectors_config={\n",
    "        \"ratings\": models.SparseVectorParams()\n",
    "    }\n",
    ")"
   ]
  },
  {
   "cell_type": "code",
   "execution_count": 4,
   "id": "ed35986e-2b7c-4aa3-a0b9-02360088339b",
   "metadata": {},
   "outputs": [],
   "source": [
    "# Convert ratings to sparse vectors\n",
    "user_sparse_vectors = defaultdict(lambda: {\"values\": [], \"indices\": []})\n",
    "for row in ratings_agg_df.itertuples():\n",
    "    user_sparse_vectors[row.userId][\"values\"].append(row.rating)\n",
    "    user_sparse_vectors[row.userId][\"indices\"].append(int(row.movieId))"
   ]
  },
  {
   "cell_type": "code",
   "execution_count": 5,
   "id": "44b6c5ee-5f94-440f-aee0-7df67dd08963",
   "metadata": {},
   "outputs": [],
   "source": [
    "# Define a data generator\n",
    "def data_generator():\n",
    "    for user_id, sparse_vector in user_sparse_vectors.items():\n",
    "        yield PointStruct(\n",
    "            id=user_id,\n",
    "            vector={\"ratings\": SparseVector(\n",
    "                indices=sparse_vector[\"indices\"],\n",
    "                values=sparse_vector[\"values\"]\n",
    "            )},\n",
    "            payload={\"user_id\": user_id}\n",
    "        )\n",
    "\n",
    "# Upload points using the data generator\n",
    "qdrant_client.upload_points(\n",
    "    collection_name=collection_name,\n",
    "    points=data_generator()\n",
    ")"
   ]
  },
  {
   "cell_type": "markdown",
   "id": "1c18c892-d4dc-45e9-92e3-4c82f328b000",
   "metadata": {},
   "source": [
    "# Search "
   ]
  },
  {
   "cell_type": "code",
   "execution_count": 6,
   "id": "04a2b49c-9906-4c4b-93e3-14d2bfe1c70c",
   "metadata": {},
   "outputs": [],
   "source": [
    "my_ratings = {\n",
    "    603: 1,     # Matrix\n",
    "    13475: 1,   # Star Trek\n",
    "    11: 1,      # Star Wars\n",
    "    1091: -1,   # The Thing\n",
    "    862: 1,     # Toy Story\n",
    "    597: -1,    # Titanic\n",
    "    680: -1,    # Pulp Fiction\n",
    "    13: 1,      # Forrest Gump\n",
    "    120: 1,     # Lord of the Rings\n",
    "    87: -1,     # Indiana Jones\n",
    "    562: -1     # Die Hard\n",
    "}"
   ]
  },
  {
   "cell_type": "code",
   "execution_count": 7,
   "id": "537e65f1-9b05-49f2-b5ff-5e540ae8b137",
   "metadata": {},
   "outputs": [],
   "source": [
    "# Create sparse vector from my_ratings\n",
    "def to_vector(ratings):\n",
    "    vector = SparseVector(\n",
    "        values=[],\n",
    "        indices=[]\n",
    "    )\n",
    "    for movie_id, rating in ratings.items():\n",
    "        vector.values.append(rating)\n",
    "        vector.indices.append(movie_id)\n",
    "    return vector"
   ]
  },
  {
   "cell_type": "code",
   "execution_count": 8,
   "id": "215a7180-3fc9-4026-b83a-88b9d52faf61",
   "metadata": {},
   "outputs": [],
   "source": [
    "# Function to get movie poster using OMDB API\n",
    "def get_movie_poster(imdb_id, api_key):\n",
    "    url = f\"https://www.omdbapi.com/?i={imdb_id}&apikey={api_key}\"\n",
    "    response = requests.get(url)\n",
    "    if response.status_code == 200:\n",
    "        data = response.json()\n",
    "        return data.get('Poster', 'No Poster Found'), data\n",
    "    return 'No Poster Found'"
   ]
  },
  {
   "cell_type": "code",
   "execution_count": 9,
   "id": "e722ce96-b5e4-4e3e-af2b-e590384e3a12",
   "metadata": {},
   "outputs": [],
   "source": [
    "# Perform the search\n",
    "results = qdrant_client.search(\n",
    "    collection_name=collection_name,\n",
    "    query_vector=NamedSparseVector(\n",
    "        name=\"ratings\",\n",
    "        vector=to_vector(my_ratings)\n",
    "    ),\n",
    "    limit=20\n",
    ")\n",
    "\n",
    "# OMDB API Key\n",
    "omdb_api_key = os.getenv(\"OMDB_API_KEY\")"
   ]
  },
  {
   "cell_type": "code",
   "execution_count": 10,
   "id": "33bd1d0b-bbe3-4f6f-8011-060210356044",
   "metadata": {},
   "outputs": [
    {
     "data": {
      "text/html": [
       "<div class='movies-container'>\n",
       "    <div class='movie-card'>\n",
       "        <img src=\"https://m.media-amazon.com/images/M/MV5BMjIyNjkxNzEyMl5BMl5BanBnXkFtZTYwMjc3MDE3._V1_SX300.jpg\" alt=\"Poster\" class=\"movie-poster\">\n",
       "        <div class=\"movie-title\">Pirates of the Caribbean: At World's End</div>\n",
       "        <div class=\"movie-score\">Score: 2.404021</div>\n",
       "    </div>\n",
       "    \n",
       "    <div class='movie-card'>\n",
       "        <img src=\"https://m.media-amazon.com/images/M/MV5BZTA5NzU4YzItMjhjYy00YjNjLTljM2MtZDk3ZDE5OGVjNTBhXkEyXkFqcGdeQXVyMTQxNzMzNDI@._V1_SX300.jpg\" alt=\"Poster\" class=\"movie-poster\">\n",
       "        <div class=\"movie-title\">The Horse Whisperer</div>\n",
       "        <div class=\"movie-score\">Score: 2.404021</div>\n",
       "    </div>\n",
       "    \n",
       "    <div class='movie-card'>\n",
       "        <img src=\"https://m.media-amazon.com/images/M/MV5BYzI0N2JmNTctMDA4Yi00ZjExLWJlZTAtYmM0ODc2ZmY1NGM4XkEyXkFqcGdeQXVyOTUzMjk0NDE@._V1_SX300.jpg\" alt=\"Poster\" class=\"movie-poster\">\n",
       "        <div class=\"movie-title\">Magnetic Rose</div>\n",
       "        <div class=\"movie-score\">Score: 2.404021</div>\n",
       "    </div>\n",
       "    \n",
       "    <div class='movie-card'>\n",
       "        <img src=\"https://m.media-amazon.com/images/M/MV5BYjBiOTYxZWItMzdiZi00NjlkLWIzZTYtYmFhZjhiMTljOTdkXkEyXkFqcGdeQXVyNzkwMjQ5NzM@._V1_SX300.jpg\" alt=\"Poster\" class=\"movie-poster\">\n",
       "        <div class=\"movie-title\">Citizen Kane</div>\n",
       "        <div class=\"movie-score\">Score: 1.972675</div>\n",
       "    </div>\n",
       "    \n",
       "    <div class='movie-card'>\n",
       "        <img src=\"https://m.media-amazon.com/images/M/MV5BMjA1ODk2NjE1OV5BMl5BanBnXkFtZTcwMDg4ODgxMQ@@._V1_SX300.jpg\" alt=\"Poster\" class=\"movie-poster\">\n",
       "        <div class=\"movie-title\">Bang, Boom, Bang</div>\n",
       "        <div class=\"movie-score\">Score: 1.972675</div>\n",
       "    </div>\n",
       "    \n",
       "    <div class='movie-card'>\n",
       "        <img src=\"https://m.media-amazon.com/images/M/MV5BODM5OTIxMDM5NF5BMl5BanBnXkFtZTcwNzcyOTMzMQ@@._V1_SX300.jpg\" alt=\"Poster\" class=\"movie-poster\">\n",
       "        <div class=\"movie-title\">Megacities</div>\n",
       "        <div class=\"movie-score\">Score: 1.8902447</div>\n",
       "    </div>\n",
       "    \n",
       "    <div class='movie-card'>\n",
       "        <img src=\"https://m.media-amazon.com/images/M/MV5BNzNlZTZjMDctZjYwNi00NzljLWIwN2QtZWZmYmJiYzQ0MTk2XkEyXkFqcGdeQXVyNTAyODkwOQ@@._V1_SX300.jpg\" alt=\"Poster\" class=\"movie-poster\">\n",
       "        <div class=\"movie-title\">The Matrix Revolutions</div>\n",
       "        <div class=\"movie-score\">Score: 1.8902447</div>\n",
       "    </div>\n",
       "    \n",
       "    <div class='movie-card'>\n",
       "        <img src=\"https://m.media-amazon.com/images/M/MV5BZTc4YzhkYWUtMTM1My00MTkxLTg5ZjktOWE3YTIyNmM0OWYzXkEyXkFqcGdeQXVyMTUzMDUzNTI3._V1_SX300.jpg\" alt=\"Poster\" class=\"movie-poster\">\n",
       "        <div class=\"movie-title\">Flashdance</div>\n",
       "        <div class=\"movie-score\">Score: 1.8902447</div>\n",
       "    </div>\n",
       "    \n",
       "    <div class='movie-card'>\n",
       "        <img src=\"https://m.media-amazon.com/images/M/MV5BMzlmYTVlYjQtNDY5OS00ZDI5LWEwMTEtNGJjNTA3NTU2MmRjXkEyXkFqcGdeQXVyMTYyODkzNzU4._V1_SX300.jpg\" alt=\"Poster\" class=\"movie-poster\">\n",
       "        <div class=\"movie-title\">Basic Instinct</div>\n",
       "        <div class=\"movie-score\">Score: 1.8078144</div>\n",
       "    </div>\n",
       "    \n",
       "    <div class='movie-card'>\n",
       "        <img src=\"https://m.media-amazon.com/images/M/MV5BOTJiYjBhZDgtMjhiOC00MTIzLThlNGMtMmI1NjIwM2M3YTI5XkEyXkFqcGdeQXVyMTQxNzMzNDI@._V1_SX300.jpg\" alt=\"Poster\" class=\"movie-poster\">\n",
       "        <div class=\"movie-title\">The Mummy</div>\n",
       "        <div class=\"movie-score\">Score: 1.5413289</div>\n",
       "    </div>\n",
       "    \n",
       "    <div class='movie-card'>\n",
       "        <img src=\"https://m.media-amazon.com/images/M/MV5BMjc5MDE0NjkxOF5BMl5BanBnXkFtZTcwNzA0NTkyMw@@._V1_SX300.jpg\" alt=\"Poster\" class=\"movie-poster\">\n",
       "        <div class=\"movie-title\">Garden State</div>\n",
       "        <div class=\"movie-score\">Score: 1.4588987</div>\n",
       "    </div>\n",
       "    \n",
       "    <div class='movie-card'>\n",
       "        <img src=\"https://m.media-amazon.com/images/M/MV5BOWQ3MzIwZTMtMjBmYS00MjIzLWIzYmEtMWJjYjYyM2ZiNjQyXkEyXkFqcGdeQXVyMjUzOTY1NTc@._V1_SX300.jpg\" alt=\"Poster\" class=\"movie-poster\">\n",
       "        <div class=\"movie-title\">Klute</div>\n",
       "        <div class=\"movie-score\">Score: 1.4588987</div>\n",
       "    </div>\n",
       "    \n",
       "    <div class='movie-card'>\n",
       "        <img src=\"https://m.media-amazon.com/images/M/MV5BMjE1YjBlNTItYjM0YS00ZTBjLWI0Y2EtNDg2NGZlOTZlMDk2XkEyXkFqcGdeQXVyNjc5NjEzNA@@._V1_SX300.jpg\" alt=\"Poster\" class=\"movie-poster\">\n",
       "        <div class=\"movie-title\">The King of Comedy</div>\n",
       "        <div class=\"movie-score\">Score: 1.4588987</div>\n",
       "    </div>\n",
       "    </div>"
      ],
      "text/plain": [
       "<IPython.core.display.HTML object>"
      ]
     },
     "metadata": {},
     "output_type": "display_data"
    }
   ],
   "source": [
    "# Create HTML to display results\n",
    "html_content = \"<div class='movies-container'>\"\n",
    "\n",
    "# Print search results with movie titles and posters\n",
    "for result in results:\n",
    "    movie_id = result.id\n",
    "    movie_title_row = merged_df.loc[merged_df['id'] == str(movie_id), 'title']\n",
    "    imdb_id_row = merged_df.loc[merged_df['id'] == str(movie_id), 'imdb_id']\n",
    "    \n",
    "    if not movie_title_row.empty and not imdb_id_row.empty:\n",
    "        movie_title = movie_title_row.values[0]\n",
    "        imdb_id = imdb_id_row.values[0]\n",
    "    else:\n",
    "        imdb_id_row = movies_df.loc[movies_df['id'] == str(movie_id), 'imdb_id']\n",
    "        if not imdb_id_row.empty:\n",
    "            imdb_id = imdb_id_row.values[0]\n",
    "            poster_url, movie_info = get_movie_poster(imdb_id, omdb_api_key)\n",
    "            movie_title = movie_info.get('Title', 'Unknown Title')\n",
    "        else:\n",
    "            continue  # Skip if movie_id not found in both merged_df and movies_df\n",
    "    \n",
    "    poster_url, movie_info = get_movie_poster(imdb_id, omdb_api_key)\n",
    "    html_content += f\"\"\"\n",
    "    <div class='movie-card'>\n",
    "        <img src=\"{poster_url}\" alt=\"Poster\" class=\"movie-poster\">\n",
    "        <div class=\"movie-title\">{movie_title}</div>\n",
    "        <div class=\"movie-score\">Score: {result.score}</div>\n",
    "    </div>\n",
    "    \"\"\"\n",
    "\n",
    "html_content += \"</div>\"\n",
    "\n",
    "display(HTML(html_content))"
   ]
  },
  {
   "cell_type": "code",
   "execution_count": null,
   "id": "9add12aa-bb08-4d87-be6b-439c8e10f965",
   "metadata": {},
   "outputs": [],
   "source": []
  }
 ],
 "metadata": {
  "kernelspec": {
   "display_name": "Python 3 (ipykernel)",
   "language": "python",
   "name": "python3"
  },
  "language_info": {
   "codemirror_mode": {
    "name": "ipython",
    "version": 3
   },
   "file_extension": ".py",
   "mimetype": "text/x-python",
   "name": "python",
   "nbconvert_exporter": "python",
   "pygments_lexer": "ipython3",
   "version": "3.11.9"
  }
 },
 "nbformat": 4,
 "nbformat_minor": 5
}
