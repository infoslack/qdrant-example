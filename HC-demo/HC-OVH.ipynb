{
 "cells": [
  {
   "cell_type": "markdown",
   "id": "7b85bdcb-6f11-4daa-9bc0-bdb7485b1368",
   "metadata": {},
   "source": [
    "# Basic example of how to use Qdrant to build a movie recommendation system\n",
    "In this notebook, we plan to create a basic recommendation system by utilizing the MovieLens dataset and Qdrant.\n",
    "Vector databases like Qdrant are essential for recommendation systems. They store and manage high-dimensional data, including user and item embeddings, which represent detailed user preferences and item characteristics. With advanced indexing techniques, vector databases enable quick retrieval of similar users or items, ensuring that the suggested items or content closely align with the user's interests, leading to more personalized and relevant recommendations.\n",
    "\n",
    "MovieLens dataset contains a list of movies and ratings given by users. \n",
    "Our approach will use **collaborative filtering** to build a recommendation system based on this data.\n",
    "\n",
    "The idea behind collaborative filtering is that if two users have similar tastes, they will like similar movies. We will use this idea to find the users most similar to our ratings and see what movies these similar users liked that we haven't seen yet. To identify similar users based on their ratings, we will represent each user's ratings as a vector in a high-dimensional space, which will be sparse. We will use Qdrant to index these vectors and then use the same collection to find users whose vectors are similar to our ratings. Once we have identified such users, we will check what movies they have liked but haven't seen yet.\n",
    "\n",
    "First, we need to download the dataset:\n",
    "```shell\n",
    "mkdir -p data\n",
    "wget https://files.grouplens.org/datasets/movielens/ml-1m.zip\n",
    "unzip ml-1m.zip -d data\n",
    "```\n",
    "\n",
    "#### Getting started\n",
    "First, install all dependencies:\n",
    "```shell\n",
    "!pip install -U  \\\n",
    "    pandas  \\\n",
    "    qdrant-client \\\n",
    "    python-dotenv\n",
    "```\n",
    "\n",
    "Set up secret key values on `.env` file: \n",
    "```bash\n",
    "QDRANT_HOST\n",
    "QDRANT_API_KEY\n",
    "```"
   ]
  },
  {
   "cell_type": "code",
   "execution_count": 1,
   "id": "2514ff5f-9b28-464e-a7ae-f67db46d42b0",
   "metadata": {},
   "outputs": [
    {
     "data": {
      "text/plain": [
       "True"
      ]
     },
     "execution_count": 1,
     "metadata": {},
     "output_type": "execute_result"
    }
   ],
   "source": [
    "# load all environment variables\n",
    "import os\n",
    "from dotenv import load_dotenv\n",
    "load_dotenv('./.env')"
   ]
  },
  {
   "cell_type": "markdown",
   "id": "c8e5455c-e7fa-4837-843a-e2d6184960bd",
   "metadata": {},
   "source": [
    "## 1 - Setup and loading data"
   ]
  },
  {
   "cell_type": "code",
   "execution_count": 2,
   "id": "43c2f74b-20c7-456b-a51a-7468118b98c9",
   "metadata": {},
   "outputs": [],
   "source": [
    "from qdrant_client import QdrantClient, models\n",
    "import pandas as pd"
   ]
  },
  {
   "cell_type": "code",
   "execution_count": 3,
   "id": "496d1936-025f-44d0-946f-ca52adcd4dc1",
   "metadata": {},
   "outputs": [
    {
     "data": {
      "text/html": [
       "<div>\n",
       "<style scoped>\n",
       "    .dataframe tbody tr th:only-of-type {\n",
       "        vertical-align: middle;\n",
       "    }\n",
       "\n",
       "    .dataframe tbody tr th {\n",
       "        vertical-align: top;\n",
       "    }\n",
       "\n",
       "    .dataframe thead th {\n",
       "        text-align: right;\n",
       "    }\n",
       "</style>\n",
       "<table border=\"1\" class=\"dataframe\">\n",
       "  <thead>\n",
       "    <tr style=\"text-align: right;\">\n",
       "      <th></th>\n",
       "      <th>user_id</th>\n",
       "      <th>gender</th>\n",
       "      <th>age</th>\n",
       "      <th>occupation</th>\n",
       "      <th>zip</th>\n",
       "    </tr>\n",
       "  </thead>\n",
       "  <tbody>\n",
       "    <tr>\n",
       "      <th>0</th>\n",
       "      <td>1</td>\n",
       "      <td>F</td>\n",
       "      <td>1</td>\n",
       "      <td>10</td>\n",
       "      <td>48067</td>\n",
       "    </tr>\n",
       "    <tr>\n",
       "      <th>1</th>\n",
       "      <td>2</td>\n",
       "      <td>M</td>\n",
       "      <td>56</td>\n",
       "      <td>16</td>\n",
       "      <td>70072</td>\n",
       "    </tr>\n",
       "    <tr>\n",
       "      <th>2</th>\n",
       "      <td>3</td>\n",
       "      <td>M</td>\n",
       "      <td>25</td>\n",
       "      <td>15</td>\n",
       "      <td>55117</td>\n",
       "    </tr>\n",
       "    <tr>\n",
       "      <th>3</th>\n",
       "      <td>4</td>\n",
       "      <td>M</td>\n",
       "      <td>45</td>\n",
       "      <td>7</td>\n",
       "      <td>02460</td>\n",
       "    </tr>\n",
       "    <tr>\n",
       "      <th>4</th>\n",
       "      <td>5</td>\n",
       "      <td>M</td>\n",
       "      <td>25</td>\n",
       "      <td>20</td>\n",
       "      <td>55455</td>\n",
       "    </tr>\n",
       "  </tbody>\n",
       "</table>\n",
       "</div>"
      ],
      "text/plain": [
       "   user_id gender  age  occupation    zip\n",
       "0        1      F    1          10  48067\n",
       "1        2      M   56          16  70072\n",
       "2        3      M   25          15  55117\n",
       "3        4      M   45           7  02460\n",
       "4        5      M   25          20  55455"
      ]
     },
     "execution_count": 3,
     "metadata": {},
     "output_type": "execute_result"
    }
   ],
   "source": [
    "# load users\n",
    "users = pd.read_csv('data/ml-1m/users.dat', sep='::', names=['user_id', 'gender', 'age', 'occupation', 'zip'], engine='python')\n",
    "users.head()"
   ]
  },
  {
   "cell_type": "code",
   "execution_count": 4,
   "id": "d8436dcb-f960-40ea-80b8-7bb4734267d2",
   "metadata": {},
   "outputs": [
    {
     "data": {
      "text/html": [
       "<div>\n",
       "<style scoped>\n",
       "    .dataframe tbody tr th:only-of-type {\n",
       "        vertical-align: middle;\n",
       "    }\n",
       "\n",
       "    .dataframe tbody tr th {\n",
       "        vertical-align: top;\n",
       "    }\n",
       "\n",
       "    .dataframe thead th {\n",
       "        text-align: right;\n",
       "    }\n",
       "</style>\n",
       "<table border=\"1\" class=\"dataframe\">\n",
       "  <thead>\n",
       "    <tr style=\"text-align: right;\">\n",
       "      <th></th>\n",
       "      <th>movie_id</th>\n",
       "      <th>title</th>\n",
       "      <th>genres</th>\n",
       "    </tr>\n",
       "  </thead>\n",
       "  <tbody>\n",
       "    <tr>\n",
       "      <th>0</th>\n",
       "      <td>1</td>\n",
       "      <td>Toy Story (1995)</td>\n",
       "      <td>Animation|Children's|Comedy</td>\n",
       "    </tr>\n",
       "    <tr>\n",
       "      <th>1</th>\n",
       "      <td>2</td>\n",
       "      <td>Jumanji (1995)</td>\n",
       "      <td>Adventure|Children's|Fantasy</td>\n",
       "    </tr>\n",
       "    <tr>\n",
       "      <th>2</th>\n",
       "      <td>3</td>\n",
       "      <td>Grumpier Old Men (1995)</td>\n",
       "      <td>Comedy|Romance</td>\n",
       "    </tr>\n",
       "    <tr>\n",
       "      <th>3</th>\n",
       "      <td>4</td>\n",
       "      <td>Waiting to Exhale (1995)</td>\n",
       "      <td>Comedy|Drama</td>\n",
       "    </tr>\n",
       "    <tr>\n",
       "      <th>4</th>\n",
       "      <td>5</td>\n",
       "      <td>Father of the Bride Part II (1995)</td>\n",
       "      <td>Comedy</td>\n",
       "    </tr>\n",
       "  </tbody>\n",
       "</table>\n",
       "</div>"
      ],
      "text/plain": [
       "   movie_id                               title                        genres\n",
       "0         1                    Toy Story (1995)   Animation|Children's|Comedy\n",
       "1         2                      Jumanji (1995)  Adventure|Children's|Fantasy\n",
       "2         3             Grumpier Old Men (1995)                Comedy|Romance\n",
       "3         4            Waiting to Exhale (1995)                  Comedy|Drama\n",
       "4         5  Father of the Bride Part II (1995)                        Comedy"
      ]
     },
     "execution_count": 4,
     "metadata": {},
     "output_type": "execute_result"
    }
   ],
   "source": [
    "movies = pd.read_csv('data/ml-1m/movies.dat', sep='::', names=['movie_id', 'title', 'genres'], engine='python', encoding='latin-1')\n",
    "movies.head()"
   ]
  },
  {
   "cell_type": "code",
   "execution_count": 5,
   "id": "7edc0e7a-0c2e-4284-8d4d-03aedfecb781",
   "metadata": {},
   "outputs": [
    {
     "data": {
      "text/html": [
       "<div>\n",
       "<style scoped>\n",
       "    .dataframe tbody tr th:only-of-type {\n",
       "        vertical-align: middle;\n",
       "    }\n",
       "\n",
       "    .dataframe tbody tr th {\n",
       "        vertical-align: top;\n",
       "    }\n",
       "\n",
       "    .dataframe thead th {\n",
       "        text-align: right;\n",
       "    }\n",
       "</style>\n",
       "<table border=\"1\" class=\"dataframe\">\n",
       "  <thead>\n",
       "    <tr style=\"text-align: right;\">\n",
       "      <th></th>\n",
       "      <th>user_id</th>\n",
       "      <th>movie_id</th>\n",
       "      <th>rating</th>\n",
       "      <th>timestamp</th>\n",
       "    </tr>\n",
       "  </thead>\n",
       "  <tbody>\n",
       "    <tr>\n",
       "      <th>0</th>\n",
       "      <td>1</td>\n",
       "      <td>1193</td>\n",
       "      <td>5</td>\n",
       "      <td>978300760</td>\n",
       "    </tr>\n",
       "    <tr>\n",
       "      <th>1</th>\n",
       "      <td>1</td>\n",
       "      <td>661</td>\n",
       "      <td>3</td>\n",
       "      <td>978302109</td>\n",
       "    </tr>\n",
       "    <tr>\n",
       "      <th>2</th>\n",
       "      <td>1</td>\n",
       "      <td>914</td>\n",
       "      <td>3</td>\n",
       "      <td>978301968</td>\n",
       "    </tr>\n",
       "    <tr>\n",
       "      <th>3</th>\n",
       "      <td>1</td>\n",
       "      <td>3408</td>\n",
       "      <td>4</td>\n",
       "      <td>978300275</td>\n",
       "    </tr>\n",
       "    <tr>\n",
       "      <th>4</th>\n",
       "      <td>1</td>\n",
       "      <td>2355</td>\n",
       "      <td>5</td>\n",
       "      <td>978824291</td>\n",
       "    </tr>\n",
       "  </tbody>\n",
       "</table>\n",
       "</div>"
      ],
      "text/plain": [
       "   user_id  movie_id  rating  timestamp\n",
       "0        1      1193       5  978300760\n",
       "1        1       661       3  978302109\n",
       "2        1       914       3  978301968\n",
       "3        1      3408       4  978300275\n",
       "4        1      2355       5  978824291"
      ]
     },
     "execution_count": 5,
     "metadata": {},
     "output_type": "execute_result"
    }
   ],
   "source": [
    "ratings = pd.read_csv( 'data/ml-1m/ratings.dat', sep='::', names=['user_id', 'movie_id', 'rating', 'timestamp'], engine='python')\n",
    "ratings.head()"
   ]
  },
  {
   "cell_type": "markdown",
   "id": "18dac6e9-341c-401b-aa5f-41331657e288",
   "metadata": {},
   "source": [
    "#### Normalize ratings\n",
    "> Sparse vectors can use advantage of negative values, so we can normalize ratings to have mean 0 and std 1\n",
    "In this scenario we can take into account movies that we don't like"
   ]
  },
  {
   "cell_type": "code",
   "execution_count": 6,
   "id": "afb78991-cd15-45e0-a82a-5e1e225c42e1",
   "metadata": {},
   "outputs": [],
   "source": [
    "ratings.rating = (ratings.rating - ratings.rating.mean()) / ratings.rating.std()"
   ]
  },
  {
   "cell_type": "code",
   "execution_count": 7,
   "id": "1de37bed-15c0-43f7-bfe1-3ae934a278ec",
   "metadata": {},
   "outputs": [
    {
     "data": {
      "text/html": [
       "<div>\n",
       "<style scoped>\n",
       "    .dataframe tbody tr th:only-of-type {\n",
       "        vertical-align: middle;\n",
       "    }\n",
       "\n",
       "    .dataframe tbody tr th {\n",
       "        vertical-align: top;\n",
       "    }\n",
       "\n",
       "    .dataframe thead th {\n",
       "        text-align: right;\n",
       "    }\n",
       "</style>\n",
       "<table border=\"1\" class=\"dataframe\">\n",
       "  <thead>\n",
       "    <tr style=\"text-align: right;\">\n",
       "      <th></th>\n",
       "      <th>user_id</th>\n",
       "      <th>movie_id</th>\n",
       "      <th>rating</th>\n",
       "      <th>timestamp</th>\n",
       "    </tr>\n",
       "  </thead>\n",
       "  <tbody>\n",
       "    <tr>\n",
       "      <th>0</th>\n",
       "      <td>1</td>\n",
       "      <td>1193</td>\n",
       "      <td>1.269746</td>\n",
       "      <td>978300760</td>\n",
       "    </tr>\n",
       "    <tr>\n",
       "      <th>1</th>\n",
       "      <td>1</td>\n",
       "      <td>661</td>\n",
       "      <td>-0.520601</td>\n",
       "      <td>978302109</td>\n",
       "    </tr>\n",
       "    <tr>\n",
       "      <th>2</th>\n",
       "      <td>1</td>\n",
       "      <td>914</td>\n",
       "      <td>-0.520601</td>\n",
       "      <td>978301968</td>\n",
       "    </tr>\n",
       "    <tr>\n",
       "      <th>3</th>\n",
       "      <td>1</td>\n",
       "      <td>3408</td>\n",
       "      <td>0.374572</td>\n",
       "      <td>978300275</td>\n",
       "    </tr>\n",
       "    <tr>\n",
       "      <th>4</th>\n",
       "      <td>1</td>\n",
       "      <td>2355</td>\n",
       "      <td>1.269746</td>\n",
       "      <td>978824291</td>\n",
       "    </tr>\n",
       "  </tbody>\n",
       "</table>\n",
       "</div>"
      ],
      "text/plain": [
       "   user_id  movie_id    rating  timestamp\n",
       "0        1      1193  1.269746  978300760\n",
       "1        1       661 -0.520601  978302109\n",
       "2        1       914 -0.520601  978301968\n",
       "3        1      3408  0.374572  978300275\n",
       "4        1      2355  1.269746  978824291"
      ]
     },
     "execution_count": 7,
     "metadata": {},
     "output_type": "execute_result"
    }
   ],
   "source": [
    "ratings.head()"
   ]
  },
  {
   "cell_type": "markdown",
   "id": "4b116ab3-766e-402c-8c10-36c9b9f40f5b",
   "metadata": {},
   "source": [
    "## 2 - Preparing the data and creating a collection\n",
    "- Create collection with configured sparse vectors\n",
    "- Sparse vectors don't require to specify dimension, because it's extracted from the data automatically\n",
    "> An explanation of using hybrid cloud with OVH can be inserted here!"
   ]
  },
  {
   "cell_type": "code",
   "execution_count": 8,
   "id": "431fc046-61dc-4589-b412-17acf83868a3",
   "metadata": {},
   "outputs": [],
   "source": [
    "# Convert ratings to sparse vectors\n",
    "\n",
    "from collections import defaultdict\n",
    "\n",
    "user_sparse_vectors = defaultdict(lambda: {\"values\": [], \"indices\": []})\n",
    "\n",
    "for row in ratings.itertuples():\n",
    "    user_sparse_vectors[row.user_id][\"values\"].append(row.rating)\n",
    "    user_sparse_vectors[row.user_id][\"indices\"].append(row.movie_id)"
   ]
  },
  {
   "cell_type": "code",
   "execution_count": 9,
   "id": "3f3d7cfc-6a1d-4b8b-aaf1-506531b049d8",
   "metadata": {},
   "outputs": [
    {
     "data": {
      "text/plain": [
       "True"
      ]
     },
     "execution_count": 9,
     "metadata": {},
     "output_type": "execute_result"
    }
   ],
   "source": [
    "client = QdrantClient(\n",
    "    url = os.getenv(\"QDRANT_HOST\"),\n",
    "    api_key = os.getenv(\"QDRANT_API_KEY\")\n",
    ")\n",
    "\n",
    "client.create_collection(\n",
    "    \"movielens\",\n",
    "    vectors_config={},\n",
    "    sparse_vectors_config={\n",
    "        \"ratings\": models.SparseVectorParams()\n",
    "    }\n",
    ")"
   ]
  },
  {
   "cell_type": "markdown",
   "id": "f702891d-89ad-4eff-8adc-e2d2c5af6255",
   "metadata": {},
   "source": [
    "***Upload all user's votes as sparse vectors***:"
   ]
  },
  {
   "cell_type": "code",
   "execution_count": 10,
   "id": "8a0acf2a-7a9a-43bd-8de4-2dafe16dce65",
   "metadata": {},
   "outputs": [],
   "source": [
    "def data_generator():\n",
    "    for user in users.itertuples():\n",
    "        yield models.PointStruct(\n",
    "            id=user.user_id,\n",
    "            vector={\n",
    "                \"ratings\": user_sparse_vectors[user.user_id]\n",
    "            },\n",
    "            payload=user._asdict()\n",
    "        )\n",
    "\n",
    "client.upload_points(\n",
    "    \"movielens\",\n",
    "    data_generator()\n",
    ")"
   ]
  },
  {
   "cell_type": "markdown",
   "id": "6fcda616-fcbc-4079-ae80-00fdd36d8a9e",
   "metadata": {},
   "source": [
    "## 3 - Making a recommendation for ourselves\n",
    "Let's try to recommend something for ourselves:\n",
    "- 1 = Like\n",
    "- -1 = dislike"
   ]
  },
  {
   "cell_type": "code",
   "execution_count": 11,
   "id": "59d7646e-7dcd-42c1-bb79-f4aacc981f01",
   "metadata": {},
   "outputs": [],
   "source": [
    "# Search with \n",
    "# movies[movies.title.str.contains(\"Matrix\", case=False)]\n",
    "\n",
    "my_ratings = { \n",
    "    2571: 1,  # Matrix\n",
    "    329: 1,   # Star Trek\n",
    "    260: 1,   # Star Wars\n",
    "    2288: -1, # The Thing\n",
    "    1: 1,     # Toy Story\n",
    "    1721: -1, # Titanic\n",
    "    296: -1,  # Pulp Fiction\n",
    "    356: 1,   # Forrest Gump\n",
    "    2116: 1,  # Lord of the Rings\n",
    "    1291: -1, # Indiana Jones\n",
    "    1036: -1  # Die Hard\n",
    "}\n",
    "\n",
    "inverse_ratings = {k: -v for k, v in my_ratings.items()}\n",
    "\n",
    "def to_vector(ratings):\n",
    "    vector = models.SparseVector(\n",
    "        values=[],\n",
    "        indices=[]\n",
    "    )\n",
    "    for movie_id, rating in ratings.items():\n",
    "        vector.values.append(rating)\n",
    "        vector.indices.append(movie_id)\n",
    "    return vector"
   ]
  },
  {
   "cell_type": "code",
   "execution_count": 12,
   "id": "a623084d-a8cc-470e-8f06-0db55f53aef5",
   "metadata": {},
   "outputs": [],
   "source": [
    "# Find users with similar taste\n",
    "\n",
    "results = client.search(\n",
    "    \"movielens\",\n",
    "    query_vector=models.NamedSparseVector(\n",
    "        name=\"ratings\",\n",
    "        vector=to_vector(my_ratings)\n",
    "    ),\n",
    "    with_vectors=True, # We will use those to find new movies\n",
    "    limit=20\n",
    ")"
   ]
  },
  {
   "cell_type": "code",
   "execution_count": 13,
   "id": "e1e80d40-03e0-4b9c-84c8-d7d84c545387",
   "metadata": {},
   "outputs": [],
   "source": [
    "# Calculate how frequently each movie is found in similar users' ratings\n",
    "\n",
    "def results_to_scores(results):\n",
    "    movie_scores = defaultdict(lambda: 0)\n",
    "\n",
    "    for user in results:\n",
    "        user_scores = user.vector['ratings']\n",
    "        for idx, rating in zip(user_scores.indices, user_scores.values):\n",
    "            if idx in my_ratings:\n",
    "                continue\n",
    "            movie_scores[idx] += rating\n",
    "\n",
    "    return movie_scores"
   ]
  },
  {
   "cell_type": "code",
   "execution_count": 14,
   "id": "23178a64-851f-4a63-a18f-1cb074ed5012",
   "metadata": {},
   "outputs": [
    {
     "name": "stdout",
     "output_type": "stream",
     "text": [
      "Star Wars: Episode V - The Empire Strikes Back (1980) 20.02387858\n",
      "Star Wars: Episode VI - Return of the Jedi (1983) 16.443184379999998\n",
      "Princess Bride, The (1987) 15.840068229999996\n",
      "Raiders of the Lost Ark (1981) 14.94489462\n",
      "Sixth Sense, The (1999) 14.570322149999999\n"
     ]
    }
   ],
   "source": [
    "# Sort movies by score and print top 5\n",
    "\n",
    "movie_scores = results_to_scores(results)\n",
    "top_movies = sorted(movie_scores.items(), key=lambda x: x[1], reverse=True)\n",
    "\n",
    "for movie_id, score in top_movies[:5]:\n",
    "    print(movies[movies.movie_id == movie_id].title.values[0], score)"
   ]
  },
  {
   "cell_type": "code",
   "execution_count": null,
   "id": "b74a8bbe-103b-4732-971b-313d5f5c586e",
   "metadata": {},
   "outputs": [],
   "source": []
  }
 ],
 "metadata": {
  "kernelspec": {
   "display_name": "Python 3 (ipykernel)",
   "language": "python",
   "name": "python3"
  },
  "language_info": {
   "codemirror_mode": {
    "name": "ipython",
    "version": 3
   },
   "file_extension": ".py",
   "mimetype": "text/x-python",
   "name": "python",
   "nbconvert_exporter": "python",
   "pygments_lexer": "ipython3",
   "version": "3.11.8"
  }
 },
 "nbformat": 4,
 "nbformat_minor": 5
}
