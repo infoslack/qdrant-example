{
 "cells": [
  {
   "cell_type": "code",
   "execution_count": 1,
   "id": "83d27cdd-c311-44db-a247-86948e7d3d39",
   "metadata": {},
   "outputs": [
    {
     "data": {
      "text/plain": [
       "True"
      ]
     },
     "execution_count": 1,
     "metadata": {},
     "output_type": "execute_result"
    }
   ],
   "source": [
    "import os\n",
    "import numpy as np\n",
    "import pandas as pd\n",
    "from dotenv import load_dotenv\n",
    "from datasets import load_dataset\n",
    "from qdrant_client import QdrantClient\n",
    "from qdrant_client.http import models\n",
    "\n",
    "load_dotenv()"
   ]
  },
  {
   "cell_type": "code",
   "execution_count": 2,
   "id": "61c91b16-9a92-4f29-a534-d6f2171aef8e",
   "metadata": {},
   "outputs": [
    {
     "data": {
      "text/html": [
       "<div>\n",
       "<style scoped>\n",
       "    .dataframe tbody tr th:only-of-type {\n",
       "        vertical-align: middle;\n",
       "    }\n",
       "\n",
       "    .dataframe tbody tr th {\n",
       "        vertical-align: top;\n",
       "    }\n",
       "\n",
       "    .dataframe thead th {\n",
       "        text-align: right;\n",
       "    }\n",
       "</style>\n",
       "<table border=\"1\" class=\"dataframe\">\n",
       "  <thead>\n",
       "    <tr style=\"text-align: right;\">\n",
       "      <th></th>\n",
       "      <th>qtype</th>\n",
       "      <th>Question</th>\n",
       "      <th>Answer</th>\n",
       "    </tr>\n",
       "  </thead>\n",
       "  <tbody>\n",
       "    <tr>\n",
       "      <th>0</th>\n",
       "      <td>susceptibility</td>\n",
       "      <td>Who is at risk for Lymphocytic Choriomeningiti...</td>\n",
       "      <td>LCMV infections can occur after exposure to fr...</td>\n",
       "    </tr>\n",
       "    <tr>\n",
       "      <th>1</th>\n",
       "      <td>symptoms</td>\n",
       "      <td>What are the symptoms of Lymphocytic Choriomen...</td>\n",
       "      <td>LCMV is most commonly recognized as causing ne...</td>\n",
       "    </tr>\n",
       "    <tr>\n",
       "      <th>2</th>\n",
       "      <td>susceptibility</td>\n",
       "      <td>Who is at risk for Lymphocytic Choriomeningiti...</td>\n",
       "      <td>Individuals of all ages who come into contact ...</td>\n",
       "    </tr>\n",
       "    <tr>\n",
       "      <th>3</th>\n",
       "      <td>exams and tests</td>\n",
       "      <td>How to diagnose Lymphocytic Choriomeningitis (...</td>\n",
       "      <td>During the first phase of the disease, the mos...</td>\n",
       "    </tr>\n",
       "    <tr>\n",
       "      <th>4</th>\n",
       "      <td>treatment</td>\n",
       "      <td>What are the treatments for Lymphocytic Chorio...</td>\n",
       "      <td>Aseptic meningitis, encephalitis, or meningoen...</td>\n",
       "    </tr>\n",
       "  </tbody>\n",
       "</table>\n",
       "</div>"
      ],
      "text/plain": [
       "             qtype                                           Question  \\\n",
       "0   susceptibility  Who is at risk for Lymphocytic Choriomeningiti...   \n",
       "1         symptoms  What are the symptoms of Lymphocytic Choriomen...   \n",
       "2   susceptibility  Who is at risk for Lymphocytic Choriomeningiti...   \n",
       "3  exams and tests  How to diagnose Lymphocytic Choriomeningitis (...   \n",
       "4        treatment  What are the treatments for Lymphocytic Chorio...   \n",
       "\n",
       "                                              Answer  \n",
       "0  LCMV infections can occur after exposure to fr...  \n",
       "1  LCMV is most commonly recognized as causing ne...  \n",
       "2  Individuals of all ages who come into contact ...  \n",
       "3  During the first phase of the disease, the mos...  \n",
       "4  Aseptic meningitis, encephalitis, or meningoen...  "
      ]
     },
     "execution_count": 2,
     "metadata": {},
     "output_type": "execute_result"
    }
   ],
   "source": [
    "data = load_dataset(\"keivalya/MedQuad-MedicalQnADataset\", split='train')\n",
    "data = data.to_pandas()\n",
    "data.head()"
   ]
  },
  {
   "cell_type": "code",
   "execution_count": 3,
   "id": "a840d728-3818-403f-a20c-0ac1b676bcac",
   "metadata": {},
   "outputs": [],
   "source": [
    "MAX_ROWS = 15000\n",
    "DOCUMENT=\"Answer\"\n",
    "subset_data = data.head(MAX_ROWS)"
   ]
  },
  {
   "cell_type": "code",
   "execution_count": 4,
   "id": "16565e97-92cd-4920-b348-25ba44e87ca3",
   "metadata": {},
   "outputs": [],
   "source": [
    "client = QdrantClient(\n",
    "    os.getenv(\"QDRANT_HOST\"),\n",
    "    api_key=os.getenv(\"QDRANT_API_KEY\")\n",
    ")\n",
    "\n",
    "#chunks = subset_data[DOCUMENT].to_list()\n",
    "#\n",
    "#client.add(\n",
    "#    collection_name=os.getenv('QDRANT_COLLECTION_NAME'),\n",
    "#    documents=chunks\n",
    "#)"
   ]
  },
  {
   "cell_type": "markdown",
   "id": "6fc1ac3b-7385-44eb-8741-1a01ceb024f9",
   "metadata": {},
   "source": [
    "## Semantic Cache System"
   ]
  },
  {
   "cell_type": "code",
   "execution_count": 5,
   "id": "a5388104-1792-4398-a94b-4e116c587a3c",
   "metadata": {},
   "outputs": [],
   "source": [
    "import uuid\n",
    "import time\n",
    "from typing import List\n",
    "from fastembed import TextEmbedding\n",
    "from qdrant_client import QdrantClient\n",
    "from qdrant_client.http.models import PointStruct, SearchParams\n",
    "\n",
    "class SemanticCache:\n",
    "    def __init__(self, threshold=0.35):\n",
    "        self.encoder = TextEmbedding(model_name=\"BAAI/bge-small-en-v1.5\")\n",
    "        self.cache_client = QdrantClient(\":memory:\")\n",
    "        self.cache_collection_name = \"cache\"\n",
    "\n",
    "        self.cache_client.create_collection(\n",
    "            collection_name=self.cache_collection_name,\n",
    "            vectors_config=models.VectorParams(\n",
    "                size=384,\n",
    "                distance='Euclid'\n",
    "            )\n",
    "        )\n",
    "\n",
    "        # Initialize Qdrant Client for external database\n",
    "        self.db_client = QdrantClient(\n",
    "            os.getenv(\"QDRANT_HOST\"),\n",
    "            api_key=os.getenv(\"QDRANT_API_KEY\")\n",
    "        )\n",
    "        self.db_collection_name = os.getenv('QDRANT_COLLECTION_NAME')\n",
    "        \n",
    "        self.euclidean_threshold = threshold\n",
    "\n",
    "    def get_embedding(self, question):\n",
    "        embedding = list(self.encoder.embed(question))[0]\n",
    "        return embedding\n",
    "\n",
    "    def search_cache(self, embedding):\n",
    "        search_result = self.cache_client.search(\n",
    "            collection_name=self.cache_collection_name,\n",
    "            query_vector=embedding,\n",
    "            limit=1\n",
    "        )\n",
    "        return search_result\n",
    "\n",
    "    def add_to_cache(self, question, response_text):\n",
    "        # Create a unique ID for the new point\n",
    "        point_id = str(uuid.uuid4())\n",
    "        vector = self.get_embedding(question)\n",
    "        # Create the point with payload\n",
    "        point = PointStruct(id=point_id, vector=vector, payload={\"response_text\": response_text})\n",
    "        # Upload the point to the cache\n",
    "        self.cache_client.upload_points(\n",
    "            collection_name=self.cache_collection_name,\n",
    "            points=[point]\n",
    "        )\n",
    "        \n",
    "    def query_database(self, query_text):\n",
    "        results = self.db_client.query(\n",
    "            query_text=query_text,\n",
    "            limit=3,\n",
    "            collection_name=self.db_collection_name\n",
    "        )\n",
    "        return results\n",
    "\n",
    "    def ask(self, question):\n",
    "        start_time = time.time()\n",
    "        vector = self.get_embedding(question)\n",
    "        search_result = self.search_cache(vector)\n",
    "        \n",
    "        if search_result:\n",
    "            for s in search_result:\n",
    "                if s.score <= self.euclidean_threshold:\n",
    "                    print('Answer recovered from Cache.')\n",
    "                    print(f'Found cache with score {s.score:.3f}')\n",
    "                    elapsed_time = time.time() - start_time\n",
    "                    print(f\"Time taken: {elapsed_time:.3f} seconds\")\n",
    "                    return s.payload['response_text']\n",
    "\n",
    "        db_results = self.query_database(question)\n",
    "        if db_results:\n",
    "            response_text = db_results[0].document\n",
    "            self.add_to_cache(question, response_text)\n",
    "            print('Answer added to Cache.')\n",
    "            elapsed_time = time.time() - start_time\n",
    "            print(f\"Time taken: {elapsed_time:.3f} seconds\")\n",
    "            return response_text\n",
    "\n",
    "        # Fallback if no response is found\n",
    "        print('No answer found in Cache or Database.')\n",
    "        elapsed_time = time.time() - start_time\n",
    "        print(f\"Time taken: {elapsed_time:.3f} seconds\")\n",
    "        return \"No answer available.\""
   ]
  },
  {
   "cell_type": "code",
   "execution_count": 6,
   "id": "64f0215b-e6b5-46c3-9302-e7d99ad7dcad",
   "metadata": {},
   "outputs": [
    {
     "data": {
      "application/vnd.jupyter.widget-view+json": {
       "model_id": "ee5ff111af644d1f87d875e78c6b28e5",
       "version_major": 2,
       "version_minor": 0
      },
      "text/plain": [
       "Fetching 9 files:   0%|          | 0/9 [00:00<?, ?it/s]"
      ]
     },
     "metadata": {},
     "output_type": "display_data"
    }
   ],
   "source": [
    "cache = SemanticCache()\n",
    "question_1 = \"Explain briefly what is a Sydenham chorea\"\n",
    "question_2 = \"Briefly explain me what is a Sydenham chorea.\""
   ]
  },
  {
   "cell_type": "code",
   "execution_count": 7,
   "id": "933c7319-2060-43ce-bf37-6a4ef89034b4",
   "metadata": {},
   "outputs": [
    {
     "name": "stdout",
     "output_type": "stream",
     "text": [
      "Answer added to Cache.\n",
      "Time taken: 0.620 seconds\n"
     ]
    },
    {
     "data": {
      "text/plain": [
       "'Sydenham chorea (SD) is a neurological disorder of childhood resulting from infection via Group A beta-hemolytic streptococcus (GABHS), the bacterium that causes rheumatic fever. SD is characterized by rapid, irregular, and aimless involuntary movements of the arms and legs, trunk, and facial muscles. It affects girls more often than boys and typically occurs between 5 and 15 years of age. Some children will have a sore throat several weeks before the symptoms begin, but the disorder can also strike up to 6 months after the fever or infection has cleared. Symptoms can appear gradually or all at once, and also may include uncoordinated movements, muscular weakness, stumbling and falling, slurred speech, difficulty concentrating and writing, and emotional instability. The symptoms of SD can vary from a halting gait and slight grimacing to involuntary movements that are frequent and severe enough to be incapacitating. The random, writhing movements of chorea are caused by an auto-immune reaction to the bacterium that interferes with the normal function of a part of the brain (the basal ganglia) that controls motor movements. Due to better sanitary conditions and the use of antibiotics to treat streptococcal infections, rheumatic fever, and consequently SD, are rare in North America and Europe. The disease can still be found in developing nations.'"
      ]
     },
     "execution_count": 7,
     "metadata": {},
     "output_type": "execute_result"
    }
   ],
   "source": [
    "cache.ask(question_1)"
   ]
  },
  {
   "cell_type": "code",
   "execution_count": 8,
   "id": "80e643fd-06e6-46b5-ac00-08efd783bac8",
   "metadata": {},
   "outputs": [
    {
     "name": "stdout",
     "output_type": "stream",
     "text": [
      "Answer recovered from Cache.\n",
      "Found cache with score 0.151\n",
      "Time taken: 0.013 seconds\n"
     ]
    },
    {
     "data": {
      "text/plain": [
       "'Sydenham chorea (SD) is a neurological disorder of childhood resulting from infection via Group A beta-hemolytic streptococcus (GABHS), the bacterium that causes rheumatic fever. SD is characterized by rapid, irregular, and aimless involuntary movements of the arms and legs, trunk, and facial muscles. It affects girls more often than boys and typically occurs between 5 and 15 years of age. Some children will have a sore throat several weeks before the symptoms begin, but the disorder can also strike up to 6 months after the fever or infection has cleared. Symptoms can appear gradually or all at once, and also may include uncoordinated movements, muscular weakness, stumbling and falling, slurred speech, difficulty concentrating and writing, and emotional instability. The symptoms of SD can vary from a halting gait and slight grimacing to involuntary movements that are frequent and severe enough to be incapacitating. The random, writhing movements of chorea are caused by an auto-immune reaction to the bacterium that interferes with the normal function of a part of the brain (the basal ganglia) that controls motor movements. Due to better sanitary conditions and the use of antibiotics to treat streptococcal infections, rheumatic fever, and consequently SD, are rare in North America and Europe. The disease can still be found in developing nations.'"
      ]
     },
     "execution_count": 8,
     "metadata": {},
     "output_type": "execute_result"
    }
   ],
   "source": [
    "cache.ask(question_2)"
   ]
  },
  {
   "cell_type": "code",
   "execution_count": null,
   "id": "eab25841-5c01-49c0-98a0-71fa04a8d935",
   "metadata": {},
   "outputs": [],
   "source": []
  }
 ],
 "metadata": {
  "kernelspec": {
   "display_name": "Python 3 (ipykernel)",
   "language": "python",
   "name": "python3"
  },
  "language_info": {
   "codemirror_mode": {
    "name": "ipython",
    "version": 3
   },
   "file_extension": ".py",
   "mimetype": "text/x-python",
   "name": "python",
   "nbconvert_exporter": "python",
   "pygments_lexer": "ipython3",
   "version": "3.11.9"
  }
 },
 "nbformat": 4,
 "nbformat_minor": 5
}
