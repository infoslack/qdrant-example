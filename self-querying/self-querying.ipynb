{
 "cells": [
  {
   "cell_type": "code",
   "execution_count": 1,
   "id": "c9fa40b4-27fe-4681-82aa-cf632dc7c1ee",
   "metadata": {
    "editable": true,
    "slideshow": {
     "slide_type": ""
    },
    "tags": []
   },
   "outputs": [],
   "source": [
    "import os\n",
    "import warnings\n",
    "import pandas as pd\n",
    "from qdrant_client import models, QdrantClient\n",
    "from sentence_transformers import SentenceTransformer\n",
    "from dotenv import load_dotenv\n",
    "\n",
    "warnings.filterwarnings('ignore')\n",
    "encoder = SentenceTransformer(\"all-MiniLM-L6-v2\")\n",
    "\n",
    "load_dotenv()\n",
    "\n",
    "client = QdrantClient(\n",
    "    os.getenv(\"QDRANT_HOST\"),\n",
    "    api_key=os.getenv(\"QDRANT_API_KEY\")\n",
    ")"
   ]
  },
  {
   "cell_type": "markdown",
   "id": "c59b0e45-0b8b-43b2-a72b-444cdede1ea2",
   "metadata": {},
   "source": [
    "# Loading and cleaning data\n",
    "This [dataset](https://www.kaggle.com/datasets/zynicide/wine-reviews) contains approximately 130k reviews from the Wine Enthusiast\n",
    "\n",
    "Once cleaned we will have around 120k."
   ]
  },
  {
   "cell_type": "code",
   "execution_count": 2,
   "id": "5aba0c46-7c83-4556-8f4b-956196a36097",
   "metadata": {},
   "outputs": [],
   "source": [
    "df = pd.read_csv(\"winemag-data-130k-v2.csv\")"
   ]
  },
  {
   "cell_type": "code",
   "execution_count": 3,
   "id": "990fdfe3-8e15-4a39-900e-64b9560815e9",
   "metadata": {},
   "outputs": [],
   "source": [
    "wines = df.copy()\n",
    "wines = wines.drop([\"Unnamed: 0\", \"designation\", \"province\", \"region_1\", \"region_2\", \"taster_name\", \"taster_twitter_handle\", \"winery\"], axis=1)\n",
    "wines = wines.dropna(subset=[\"country\", \"price\", \"variety\"])"
   ]
  },
  {
   "cell_type": "code",
   "execution_count": 4,
   "id": "c08e860e-ebbf-4380-9dad-37cac03e13ed",
   "metadata": {},
   "outputs": [
    {
     "data": {
      "text/html": [
       "<div>\n",
       "<style scoped>\n",
       "    .dataframe tbody tr th:only-of-type {\n",
       "        vertical-align: middle;\n",
       "    }\n",
       "\n",
       "    .dataframe tbody tr th {\n",
       "        vertical-align: top;\n",
       "    }\n",
       "\n",
       "    .dataframe thead th {\n",
       "        text-align: right;\n",
       "    }\n",
       "</style>\n",
       "<table border=\"1\" class=\"dataframe\">\n",
       "  <thead>\n",
       "    <tr style=\"text-align: right;\">\n",
       "      <th></th>\n",
       "      <th>country</th>\n",
       "      <th>description</th>\n",
       "      <th>points</th>\n",
       "      <th>price</th>\n",
       "      <th>title</th>\n",
       "      <th>variety</th>\n",
       "    </tr>\n",
       "  </thead>\n",
       "  <tbody>\n",
       "    <tr>\n",
       "      <th>1</th>\n",
       "      <td>Portugal</td>\n",
       "      <td>This is ripe and fruity, a wine that is smooth...</td>\n",
       "      <td>87</td>\n",
       "      <td>15.0</td>\n",
       "      <td>Quinta dos Avidagos 2011 Avidagos Red (Douro)</td>\n",
       "      <td>Portuguese Red</td>\n",
       "    </tr>\n",
       "    <tr>\n",
       "      <th>2</th>\n",
       "      <td>US</td>\n",
       "      <td>Tart and snappy, the flavors of lime flesh and...</td>\n",
       "      <td>87</td>\n",
       "      <td>14.0</td>\n",
       "      <td>Rainstorm 2013 Pinot Gris (Willamette Valley)</td>\n",
       "      <td>Pinot Gris</td>\n",
       "    </tr>\n",
       "    <tr>\n",
       "      <th>3</th>\n",
       "      <td>US</td>\n",
       "      <td>Pineapple rind, lemon pith and orange blossom ...</td>\n",
       "      <td>87</td>\n",
       "      <td>13.0</td>\n",
       "      <td>St. Julian 2013 Reserve Late Harvest Riesling ...</td>\n",
       "      <td>Riesling</td>\n",
       "    </tr>\n",
       "    <tr>\n",
       "      <th>4</th>\n",
       "      <td>US</td>\n",
       "      <td>Much like the regular bottling from 2012, this...</td>\n",
       "      <td>87</td>\n",
       "      <td>65.0</td>\n",
       "      <td>Sweet Cheeks 2012 Vintner's Reserve Wild Child...</td>\n",
       "      <td>Pinot Noir</td>\n",
       "    </tr>\n",
       "    <tr>\n",
       "      <th>5</th>\n",
       "      <td>Spain</td>\n",
       "      <td>Blackberry and raspberry aromas show a typical...</td>\n",
       "      <td>87</td>\n",
       "      <td>15.0</td>\n",
       "      <td>Tandem 2011 Ars In Vitro Tempranillo-Merlot (N...</td>\n",
       "      <td>Tempranillo-Merlot</td>\n",
       "    </tr>\n",
       "  </tbody>\n",
       "</table>\n",
       "</div>"
      ],
      "text/plain": [
       "    country                                        description  points  price  \\\n",
       "1  Portugal  This is ripe and fruity, a wine that is smooth...      87   15.0   \n",
       "2        US  Tart and snappy, the flavors of lime flesh and...      87   14.0   \n",
       "3        US  Pineapple rind, lemon pith and orange blossom ...      87   13.0   \n",
       "4        US  Much like the regular bottling from 2012, this...      87   65.0   \n",
       "5     Spain  Blackberry and raspberry aromas show a typical...      87   15.0   \n",
       "\n",
       "                                               title             variety  \n",
       "1      Quinta dos Avidagos 2011 Avidagos Red (Douro)      Portuguese Red  \n",
       "2      Rainstorm 2013 Pinot Gris (Willamette Valley)          Pinot Gris  \n",
       "3  St. Julian 2013 Reserve Late Harvest Riesling ...            Riesling  \n",
       "4  Sweet Cheeks 2012 Vintner's Reserve Wild Child...          Pinot Noir  \n",
       "5  Tandem 2011 Ars In Vitro Tempranillo-Merlot (N...  Tempranillo-Merlot  "
      ]
     },
     "execution_count": 4,
     "metadata": {},
     "output_type": "execute_result"
    }
   ],
   "source": [
    "wines.head()"
   ]
  },
  {
   "cell_type": "code",
   "execution_count": 5,
   "id": "99712357-338f-4075-ae87-240fa58cb7d1",
   "metadata": {},
   "outputs": [
    {
     "name": "stdout",
     "output_type": "stream",
     "text": [
      "<class 'pandas.core.frame.DataFrame'>\n",
      "Index: 120915 entries, 1 to 129970\n",
      "Data columns (total 6 columns):\n",
      " #   Column       Non-Null Count   Dtype  \n",
      "---  ------       --------------   -----  \n",
      " 0   country      120915 non-null  object \n",
      " 1   description  120915 non-null  object \n",
      " 2   points       120915 non-null  int64  \n",
      " 3   price        120915 non-null  float64\n",
      " 4   title        120915 non-null  object \n",
      " 5   variety      120915 non-null  object \n",
      "dtypes: float64(1), int64(1), object(4)\n",
      "memory usage: 6.5+ MB\n"
     ]
    }
   ],
   "source": [
    "wines.info()"
   ]
  },
  {
   "cell_type": "markdown",
   "id": "fbcd68f6-464d-43ae-a7c3-54a187c84890",
   "metadata": {},
   "source": [
    "# Create a collection"
   ]
  },
  {
   "cell_type": "code",
   "execution_count": null,
   "id": "b163e6ec-d674-45ca-b8b0-68bdac028f07",
   "metadata": {},
   "outputs": [],
   "source": [
    "client.create_collection(\n",
    "    collection_name=\"wine_reviews\",\n",
    "    vectors_config=models.VectorParams(\n",
    "        size=encoder.get_sentence_embedding_dimension(),\n",
    "        distance=models.Distance.COSINE,\n",
    "    ),\n",
    ")"
   ]
  },
  {
   "cell_type": "code",
   "execution_count": null,
   "id": "a1b570de-a4ee-472f-91ba-f1b79fc681a3",
   "metadata": {},
   "outputs": [],
   "source": [
    "# Document class to structure data\n",
    "class Document:\n",
    "    def __init__(self, page_content, metadata):\n",
    "        self.page_content = page_content\n",
    "        self.metadata = metadata\n",
    "\n",
    "# Convert DataFrame rows into Document objects\n",
    "def df_to_documents(df):\n",
    "    documents = []\n",
    "    for _, row in df.iterrows():\n",
    "        metadata = {\n",
    "            \"country\": row[\"country\"],\n",
    "            \"points\": row[\"points\"],\n",
    "            \"price\": row[\"price\"],\n",
    "            \"title\": row[\"title\"],\n",
    "            \"variety\": row[\"variety\"]\n",
    "        }\n",
    "        document = Document(page_content=row[\"description\"], metadata=metadata)\n",
    "        documents.append(document)\n",
    "    return documents\n",
    "\n",
    "docs = df_to_documents(wines)"
   ]
  },
  {
   "cell_type": "code",
   "execution_count": null,
   "id": "ddcdf0d5-e0fc-4f57-a279-e31eed228456",
   "metadata": {},
   "outputs": [],
   "source": [
    "points = [\n",
    "    models.PointStruct(\n",
    "        id=idx, \n",
    "        vector=encoder.encode(doc.page_content).tolist(), \n",
    "        payload={'metadata': doc.metadata, 'page_content': doc.page_content}\n",
    "    )\n",
    "    for idx, doc in enumerate(docs)\n",
    "]"
   ]
  },
  {
   "cell_type": "code",
   "execution_count": null,
   "id": "63c9ae7c-5c81-484f-9e9d-170bbb999815",
   "metadata": {
    "editable": true,
    "slideshow": {
     "slide_type": ""
    },
    "tags": []
   },
   "outputs": [],
   "source": [
    "client.upload_points(\n",
    "    collection_name=\"wine_reviews\",\n",
    "    points=points,\n",
    ")"
   ]
  },
  {
   "cell_type": "markdown",
   "id": "d8d3c724-f609-4ff5-8474-aed37c581a3d",
   "metadata": {},
   "source": [
    "# Test search"
   ]
  },
  {
   "cell_type": "code",
   "execution_count": 6,
   "id": "2c5d4f98-b7f5-418a-8030-0a298c6bf627",
   "metadata": {},
   "outputs": [
    {
     "name": "stdout",
     "output_type": "stream",
     "text": [
      "Aveleda 2010 Follies Quinta da Agueira Touriga Nacional (Beiras) score: 0.46982175\n",
      "Quinta da Romaneira 2013 Sino da Romaneira Red (Douro) score: 0.43031913\n",
      "Quinta da Romaneira 2013 Sino da Romaneira Red (Douro) score: 0.43031913\n"
     ]
    }
   ],
   "source": [
    "hits = client.search(\n",
    "    collection_name=\"wine_reviews\",\n",
    "    query_vector=encoder.encode(\"Quinta dos Avidagos 2011\").tolist(),\n",
    "    limit=3,\n",
    ")\n",
    "\n",
    "for hit in hits:\n",
    "    print(hit.payload['metadata']['title'], \"score:\", hit.score)"
   ]
  },
  {
   "cell_type": "markdown",
   "id": "d8b0b90a-e64a-4009-bc44-1cdcb835b805",
   "metadata": {},
   "source": [
    "# Test filtering"
   ]
  },
  {
   "cell_type": "code",
   "execution_count": 7,
   "id": "7cb0de60-a6b9-4d1b-9bee-e3407a1e910c",
   "metadata": {},
   "outputs": [
    {
     "name": "stdout",
     "output_type": "stream",
     "text": [
      "Ballentine 2010 Fig Tree Vineyard Petite Sirah (St. Helena) \n",
      "price: 28.0 \n",
      "points: 91 \n",
      "\n",
      "\n",
      "Seven Angels 2012 St. Peter of Alcantara Vineyard Zinfandel (Paso Robles) \n",
      "price: 29.0 \n",
      "points: 92 \n",
      "\n",
      "\n",
      "Jamieson Canyon 1999 Cabernet Sauvignon (Napa Valley) \n",
      "price: 20.0 \n",
      "points: 91 \n",
      "\n",
      "\n"
     ]
    }
   ],
   "source": [
    "# query filter\n",
    "hits = client.search(\n",
    "    collection_name=\"wine_reviews\",\n",
    "    query_vector=encoder.encode(\"Night Sky\").tolist(),\n",
    "    query_filter=models.Filter(\n",
    "        must=[\n",
    "            models.FieldCondition(key=\"metadata.country\", match=models.MatchValue(value=\"US\")),\n",
    "            models.FieldCondition(key=\"metadata.price\", range=models.Range(gte=15.0, lte=30.0)), \n",
    "            models.FieldCondition(key=\"metadata.points\", range=models.Range(gte=90, lte=100))\n",
    "        ]\n",
    "    ),\n",
    "    limit=3,\n",
    ")\n",
    "\n",
    "for hit in hits:\n",
    "    print(hit.payload['metadata']['title'], \"\\nprice:\", hit.payload['metadata']['price'], \"\\npoints:\", hit.payload['metadata']['points'], \"\\n\\n\")"
   ]
  },
  {
   "cell_type": "markdown",
   "id": "b59b399a-351e-428f-b812-1bd8bd563b25",
   "metadata": {},
   "source": [
    "# Self-querying with LangChain"
   ]
  },
  {
   "cell_type": "code",
   "execution_count": 8,
   "id": "9de4ae95-392c-4562-ba89-df1902311af5",
   "metadata": {},
   "outputs": [],
   "source": [
    "from langchain.chains.query_constructor.base import AttributeInfo\n",
    "from langchain.retrievers.self_query.base import SelfQueryRetriever\n",
    "from langchain_community.embeddings import HuggingFaceEmbeddings\n",
    "from langchain_community.vectorstores import Qdrant\n",
    "from langchain_openai import OpenAI\n",
    "\n",
    "embeddings = HuggingFaceEmbeddings(model_name=\"all-MiniLM-L6-v2\")\n",
    "vectorstore = Qdrant(client, collection_name=\"wine_reviews\", embeddings=embeddings)"
   ]
  },
  {
   "cell_type": "code",
   "execution_count": 9,
   "id": "8a1775a2-9f38-4945-87cb-40f0c05012ae",
   "metadata": {},
   "outputs": [],
   "source": [
    "metadata_field_info = [\n",
    "    AttributeInfo(\n",
    "        name=\"country\",\n",
    "        description=\"The country that the wine is from\",\n",
    "        type=\"string\",\n",
    "    ),\n",
    "    AttributeInfo(\n",
    "        name=\"points\",\n",
    "        description=\"The number of points WineEnthusiast rated the wine on a scale of 1-100\",\n",
    "        type=\"integer\",\n",
    "    ),\n",
    "    AttributeInfo(\n",
    "        name=\"price\",\n",
    "        description=\"The cost for a bottle of the wine\",\n",
    "        type=\"float\",\n",
    "    ),\n",
    "    AttributeInfo(\n",
    "        name=\"variety\",\n",
    "        description=\"The grapes used to make the wine\",\n",
    "        type=\"string\",\n",
    "    ),\n",
    "]\n",
    "\n",
    "document_content_description = \"Brief description of the wine\"\n",
    "llm = OpenAI(temperature=0)\n",
    "\n",
    "retriever = SelfQueryRetriever.from_llm(\n",
    "    llm,\n",
    "    vectorstore,\n",
    "    document_content_description,\n",
    "    metadata_field_info,\n",
    "    verbose=True\n",
    ")"
   ]
  },
  {
   "cell_type": "code",
   "execution_count": 11,
   "id": "b9cc595d-c5e6-4ada-bb88-28f843bb8c75",
   "metadata": {},
   "outputs": [
    {
     "data": {
      "text/plain": [
       "[Document(page_content='An outstanding value, the latest release of this wine dazzles with bold, black cherry and chocolate mocha flavors. The focus and definition throughout are exceptional also. This is a gem at a more than fair tariff.', metadata={'country': 'US', 'points': 91, 'price': 28.0, 'title': 'Dobbes Family Estate 2014 Grand Assemblage Pinot Noir (Willamette Valley)', 'variety': 'Pinot Noir', '_id': 10604, '_collection_name': 'wine_reviews'}),\n",
       " Document(page_content='This is an amazingly fresh and fruity tank-fermented wine, imparting a subtle hint of grass before unleashing sublime layers of melon and apricot alongside measured, zesty acidity. New winemaker Chris Kajani is taking things in a refreshing, aim-for-the-top direction with this bottling.', metadata={'country': 'US', 'points': 92, 'price': 30.0, 'title': \"Bouchaine 2013 Chêne d'Argent Estate Vineyard Chardonnay (Carneros)\", 'variety': 'Chardonnay', '_id': 102251, '_collection_name': 'wine_reviews'}),\n",
       " Document(page_content=\"A streak of confectionary nougat and lemony acidity combine for a smooth, well-integrated wine, full bodied in style, that's lip-smacking in apple-cider juiciness on the finish.\", metadata={'country': 'US', 'points': 92, 'price': 25.0, 'title': 'Conn Creek 2014 Chardonnay (Carneros)', 'variety': 'Chardonnay', '_id': 100685, '_collection_name': 'wine_reviews'}),\n",
       " Document(page_content='Rick Longoria shows increasing mastery over this popular variety, lifting it into true complexity. After an outstanding 2010 vintage, his 2011 is even better, showing the same crisp acidity and savory orange, apricot and honey flavors, but with even greater elegance.', metadata={'country': 'US', 'points': 91, 'price': 19.0, 'title': 'Longoria 2011 Pinot Grigio (Santa Barbara County)', 'variety': 'Pinot Grigio', '_id': 105297, '_collection_name': 'wine_reviews'})]"
      ]
     },
     "execution_count": 11,
     "metadata": {},
     "output_type": "execute_result"
    }
   ],
   "source": [
    "response = retriever.invoke(\"Which US wines are priced between 15 and 30 and have points above 90?\")\n",
    "response"
   ]
  },
  {
   "cell_type": "code",
   "execution_count": 12,
   "id": "88457dde-6b00-4cff-b54d-d2b3213bbd15",
   "metadata": {},
   "outputs": [
    {
     "name": "stdout",
     "output_type": "stream",
     "text": [
      "Dobbes Family Estate 2014 Grand Assemblage Pinot Noir (Willamette Valley) \n",
      " price: 28.0 points: 91 \n",
      "\n",
      "\n",
      "Bouchaine 2013 Chêne d'Argent Estate Vineyard Chardonnay (Carneros) \n",
      " price: 30.0 points: 92 \n",
      "\n",
      "\n",
      "Conn Creek 2014 Chardonnay (Carneros) \n",
      " price: 25.0 points: 92 \n",
      "\n",
      "\n",
      "Longoria 2011 Pinot Grigio (Santa Barbara County) \n",
      " price: 19.0 points: 91 \n",
      "\n",
      "\n"
     ]
    }
   ],
   "source": [
    "for resp in response:\n",
    "    print(resp.metadata['title'], \"\\n price:\", resp.metadata['price'], \"points:\", resp.metadata['points'], \"\\n\\n\")"
   ]
  },
  {
   "cell_type": "code",
   "execution_count": null,
   "id": "bb56ec37-ad66-445a-88a1-ac462a6ca3f7",
   "metadata": {},
   "outputs": [],
   "source": []
  }
 ],
 "metadata": {
  "kernelspec": {
   "display_name": "Python 3 (ipykernel)",
   "language": "python",
   "name": "python3"
  },
  "language_info": {
   "codemirror_mode": {
    "name": "ipython",
    "version": 3
   },
   "file_extension": ".py",
   "mimetype": "text/x-python",
   "name": "python",
   "nbconvert_exporter": "python",
   "pygments_lexer": "ipython3",
   "version": "3.11.9"
  }
 },
 "nbformat": 4,
 "nbformat_minor": 5
}
