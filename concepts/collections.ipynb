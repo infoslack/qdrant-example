{
 "cells": [
  {
   "cell_type": "code",
   "execution_count": 1,
   "id": "ca2cf46b-724a-40f6-8b68-4edbbb51d068",
   "metadata": {},
   "outputs": [],
   "source": [
    "# !pip install qdrant-client openai"
   ]
  },
  {
   "cell_type": "code",
   "execution_count": 2,
   "id": "4d11f9da-dc65-438e-8ae9-d32975cf9896",
   "metadata": {},
   "outputs": [
    {
     "data": {
      "text/plain": [
       "True"
      ]
     },
     "execution_count": 2,
     "metadata": {},
     "output_type": "execute_result"
    }
   ],
   "source": [
    "import os\n",
    "from dotenv import load_dotenv\n",
    "\n",
    "from qdrant_client import QdrantClient\n",
    "from qdrant_client.http import models\n",
    "\n",
    "load_dotenv('./.env')"
   ]
  },
  {
   "cell_type": "code",
   "execution_count": 3,
   "id": "cfcee1d1-1834-4378-9297-51bd1c2d2093",
   "metadata": {},
   "outputs": [],
   "source": [
    "# create your client\n",
    "client = QdrantClient(\n",
    "    os.getenv(\"QDRANT_HOST\"),\n",
    "    api_key=os.getenv(\"QDRANT_API_KEY\")\n",
    ")"
   ]
  },
  {
   "cell_type": "code",
   "execution_count": 4,
   "id": "ec235450-2423-456a-b31c-48902bf2889d",
   "metadata": {},
   "outputs": [
    {
     "data": {
      "text/plain": [
       "True"
      ]
     },
     "execution_count": 4,
     "metadata": {},
     "output_type": "execute_result"
    }
   ],
   "source": [
    "# create your collection\n",
    "collection_config = models.VectorParams(\n",
    "    size=1536,\n",
    "    distance=models.Distance.COSINE\n",
    ")\n",
    "\n",
    "client.create_collection(\n",
    "    collection_name=os.getenv('QDRANT_COLLECTION_NAME'),\n",
    "    vectors_config=collection_config\n",
    ")"
   ]
  },
  {
   "cell_type": "code",
   "execution_count": 5,
   "id": "c35b311c-b256-4e14-b4e1-9ee8fedba3cf",
   "metadata": {},
   "outputs": [
    {
     "data": {
      "text/plain": [
       "CollectionsResponse(collections=[CollectionDescription(name='my_collection')])"
      ]
     },
     "execution_count": 5,
     "metadata": {},
     "output_type": "execute_result"
    }
   ],
   "source": [
    "client.get_collections()"
   ]
  },
  {
   "cell_type": "markdown",
   "id": "fb5e0a7d-b342-4d5b-9914-7bb42d231614",
   "metadata": {},
   "source": [
    "### Vector Store"
   ]
  },
  {
   "cell_type": "code",
   "execution_count": 6,
   "id": "6580b781-9414-4aec-9903-44c433dd24d8",
   "metadata": {},
   "outputs": [],
   "source": [
    "from langchain.vectorstores import Qdrant\n",
    "from langchain_openai import OpenAIEmbeddings\n",
    "from langchain.text_splitter import CharacterTextSplitter"
   ]
  },
  {
   "cell_type": "code",
   "execution_count": 7,
   "id": "015e54a3-e957-4e9d-b9b9-c4697dd99845",
   "metadata": {},
   "outputs": [],
   "source": [
    "embeddings = OpenAIEmbeddings(model=\"text-embedding-3-small\")\n",
    "\n",
    "vectorstore = Qdrant(\n",
    "    client=client,\n",
    "    collection_name=os.getenv('QDRANT_COLLECTION_NAME'),\n",
    "    embeddings=embeddings\n",
    ")"
   ]
  },
  {
   "cell_type": "code",
   "execution_count": 8,
   "id": "c82fcd84-18df-45d8-ba1c-e0a6bc3dbb5b",
   "metadata": {},
   "outputs": [
    {
     "data": {
      "text/plain": [
       "['58bb1292a1844ed58b4b3269698aadb3',\n",
       " 'a12ec2b635ac46a8918672c69d253689',\n",
       " 'ec8c9d021ec34c7dbf60b1b7931bbe61',\n",
       " '77513eeac24941c097da9c5074573cb7',\n",
       " '9fcd0abb20bc46c68f8030a5e1bcb01e']"
      ]
     },
     "execution_count": 8,
     "metadata": {},
     "output_type": "execute_result"
    }
   ],
   "source": [
    "def get_chunks(text):\n",
    "    text_splitter = CharacterTextSplitter(\n",
    "        separator=\"\\n\",\n",
    "        chunk_size=1000,\n",
    "        chunk_overlap=100,\n",
    "        length_function=len\n",
    "    )\n",
    "    chunks = text_splitter.split_text(text)\n",
    "    return chunks\n",
    "\n",
    "with open(\"story.txt\") as f:\n",
    "    raw_text = f.read()\n",
    "\n",
    "texts = get_chunks(raw_text)\n",
    "\n",
    "vectorstore.add_texts(texts)"
   ]
  },
  {
   "cell_type": "code",
   "execution_count": 9,
   "id": "d38d80df-f72b-46ba-8029-3a47941f558b",
   "metadata": {},
   "outputs": [],
   "source": [
    "#client.delete_collection(collection_name=\"my_collection\")"
   ]
  },
  {
   "cell_type": "code",
   "execution_count": null,
   "id": "d99d8880-b7ff-4a80-9308-f891ce845039",
   "metadata": {},
   "outputs": [],
   "source": []
  }
 ],
 "metadata": {
  "kernelspec": {
   "display_name": "Python 3 (ipykernel)",
   "language": "python",
   "name": "python3"
  },
  "language_info": {
   "codemirror_mode": {
    "name": "ipython",
    "version": 3
   },
   "file_extension": ".py",
   "mimetype": "text/x-python",
   "name": "python",
   "nbconvert_exporter": "python",
   "pygments_lexer": "ipython3",
   "version": "3.11.7"
  }
 },
 "nbformat": 4,
 "nbformat_minor": 5
}
